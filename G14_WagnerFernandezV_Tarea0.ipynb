{
 "cells": [
  {
   "cell_type": "markdown",
   "id": "9d250902-f4f6-4b21-8cbb-83c37aa214ea",
   "metadata": {},
   "source": [
    "<center> <h1>  Instalación y reconocimiento de las herramientas de programación </h1> </center>"
   ]
  },
  {
   "cell_type": "markdown",
   "id": "69be283e-0dfd-44ee-8812-42507d4c5d88",
   "metadata": {},
   "source": [
    "-**Curso:** Programación para el Analisis de datos"
   ]
  },
  {
   "cell_type": "markdown",
   "id": "30ae17f4-049b-4a6c-8856-4592b3e343b8",
   "metadata": {},
   "source": [
    "-**Tarea:** Instalación y reconocimiento de las herramientas de programación"
   ]
  },
  {
   "cell_type": "markdown",
   "id": "da8cbcce-707b-43fe-af8f-696a136a68e3",
   "metadata": {},
   "source": [
    "-**Presentado por:** Wagner Alonso Fernández Villalobos"
   ]
  },
  {
   "cell_type": "markdown",
   "id": "eb6d66c7-08be-47fd-918d-03cb21b92d09",
   "metadata": {},
   "source": [
    "-**Grupo:** 203008069_14"
   ]
  },
  {
   "cell_type": "markdown",
   "id": "ca41b987-5d16-4c7a-aa89-6d4de65df5a4",
   "metadata": {},
   "source": [
    "-**Código:** 203008069A_1702"
   ]
  },
  {
   "cell_type": "markdown",
   "id": "97e4da64-44bf-462c-af31-b14287a32b97",
   "metadata": {},
   "source": [
    "-**Presentado a:** Jose Laureano Cruz Cardozo"
   ]
  },
  {
   "cell_type": "markdown",
   "id": "cc8631d0-81a1-41f9-b4f3-65fc242e52e4",
   "metadata": {},
   "source": [
    "-**Universidad:** Universidad Nacional Abierta y a Distancia – UNAD"
   ]
  },
  {
   "cell_type": "markdown",
   "id": "26469f22-06d7-492e-a425-210f0bdbdc29",
   "metadata": {},
   "source": [
    "-**Fecha:** 15/04/2024"
   ]
  },
  {
   "cell_type": "markdown",
   "id": "b4f66e9e-922e-4e76-a53e-4ba8835e0937",
   "metadata": {},
   "source": [
    "## Ejercicio 1: Instalación de las herramientas de programación."
   ]
  },
  {
   "cell_type": "markdown",
   "id": "28394cbc-687d-4e7f-b102-8443e0e6b36f",
   "metadata": {},
   "source": [
    "<p style=\"text-align: justify;\">La suite Anaconda se ha consolidado como una herramienta intrínseca para profesionales y entusiastas de la ciencia de datos, su popularidad está en su capacidad para ofrecer un entorno de desarrollo robusto, completo y versátil, que coadyuva en la gestión de paquetes, la creación de entornos virtuales de programación y el despliegue de aplicativos basados en datos.</p>\n",
    "\n",
    "<p style=\"text-align: justify;\">El proceso de instalación en Anaconda depende del Sistema Operativo que se use, para este caso se utilizó el Sistema operativo Linux, en una distribución muy popular entre los programadores, llamada Mint, ya que es un híbrido entre la distribución Ubuntu y Debian, pudiéndose usar paquetes apt o en efecto snap, que se utilizan a través de la consola de comando (Shell) o .deb que es similar a un instalador en Mac o Windows; desde la experiencia laboral obtenida, la mayoría de los centros de datos o plataformas en la nube, se utiliza mucho el sistema operativo del pingüino para desarrollo e ingeniería. Roldán et al. (2019, pp. 250-251)</p>\n",
    "\n",
    "<p style=\"text-align: justify;\">Esta herramienta de trabajo integra una amplia gama de bibliotecas y herramientas esenciales para la ciencia de datos, como NumPy, Pandas, Matplotlib y Jupyter Notebook, entre otras. Sin embargo, hay otra forma de instalar un entorno Data Science en una maquina desde cero, empezando desde lenguaje de programación Python hasta sus librerías sin necesidad de utilizar anaconda. Para el ejercicio se descargó desde la pagina web el instalador y procedió a ejecutar los pasos de la guía a través de la consola, finalizando exitosamente la instalación de Anaconda en la máquina. Alvarez, C. (2020)</p>\n",
    "\n",
    "<p style=\"text-align: justify;\">En la siguiente imagen, se podrá observar el funcionamiento de la aplicación Jupyter Notebook en Linux Mint 21.3 “Victoria” que es el Sistema Operativo que se utilizó para llevar a cabo el ejercicio.</p>\n"
   ]
  },
  {
   "cell_type": "markdown",
   "id": "1ec73b76-1c5b-4293-8448-fb09aaa204b4",
   "metadata": {},
   "source": [
    "<img src=\"jupyter_on.png\">"
   ]
  },
  {
   "cell_type": "markdown",
   "id": "6ac47213-d940-4c79-a76f-6dd1dbc0bfcf",
   "metadata": {},
   "source": [
    "## Ejercicio 2: Reconocimiento de las herramientas de programación."
   ]
  },
  {
   "cell_type": "markdown",
   "id": "7b0a70a9-0361-4de7-95c8-30327e12878c",
   "metadata": {},
   "source": [
    "### ¿Qué es Jupyter y cómo puede serle útil a un científico de datos?"
   ]
  },
  {
   "cell_type": "markdown",
   "id": "29192263-6b4c-4ffc-b9d5-affdde07423b",
   "metadata": {},
   "source": [
    "<p style=\"text-align: justify;\">Jupyter Notebook, es un aplicativo web, que sirve para la creación y ejecución de código de software,\n",
    "también se puede añadir textos, multimedia y enlaces, su inspiración es basada en un informe ejecutivo con celdas \n",
    "de ejecución; su formato es el .ipynb\n",
    "\n",
    "Generalmente se utiliza con el lenguaje de programación Python, porque fue creado para la ciencia de datos y optimizado para el lenguaje de la serpiente; no obstante, en algunos casos se puede emplear codigo en lenguaje R o en Julia.\n",
    "\n",
    "Este software le es muy util a un científico de datos, porque es más versátil, ya que se puede ejecutar solamente la celda deseada y no todo el codigo de software, facilitando el flujo de trabajo desde la extracción hasta la visualización de datos, e incluso exposición de los resultados (Data Storytelling).</p>"
   ]
  },
  {
   "cell_type": "markdown",
   "id": "10789a5f-9ac3-4313-9d46-551a9ca4370a",
   "metadata": {},
   "source": [
    "### ¿Qué es una celda markdown?"
   ]
  },
  {
   "cell_type": "markdown",
   "id": "60a5f4b4-f5a2-4fac-b454-6a9b21fbb16d",
   "metadata": {},
   "source": [
    "<p style=\"text-align: justify;\">Antes de exponer el interrogante, expondrá el concepto de markdown, que viene siendo un lenguaje marcado, que facilita la aplicación de formato basado en textos, empleando una serie de caracteres para personalizar textos en cursiva, citas, negrilla añadir imágenes o enlaces; es muy empleado en cuadernos de Jupyter. Se puede decir que es el pequeño procesador de texto donde se utiliza codigo HTML o simbolos para editarlo o personalizarlo.</p>"
   ]
  },
  {
   "cell_type": "markdown",
   "id": "37dd96dd-b1c2-4f2f-9cc9-572f5a73dad3",
   "metadata": {},
   "source": [
    "### ¿Qué es un paquete (o librería) en Python?"
   ]
  },
  {
   "cell_type": "markdown",
   "id": "507be858-dc2c-468e-b126-9df5b8976225",
   "metadata": {},
   "source": [
    "<p style=\"text-align: justify;\">Es una colección de programas, que se pueden utilizar para desarrollar software de manera dinámica, tambien\n",
    "los paquetes o librerías son importados para una finalidad específica, generalmente está compuesta por código y datos, los cuales vienen empaquetados; de ahí viene el concepto de \"paquete\" o \"Package\" desde el anglicismo.</p>"
   ]
  },
  {
   "cell_type": "markdown",
   "id": "156fe69f-31f4-4d91-bcca-0689574b3209",
   "metadata": {},
   "source": [
    "### <p style=\"text-align: justify;\">¿Para qué sirven cada una de las siguientes librerías: Pip, NumPy, Pandas, Seaborn, matplotlib, scikit-learn, Requests, Bokeh, y Folium? </p>"
   ]
  },
  {
   "cell_type": "markdown",
   "id": "ff74b5c5-9655-42ba-9b1e-10484c3ce148",
   "metadata": {},
   "source": [
    "Se desglosa la respuesta a los interrogantes de la siguiente manera: \n",
    "\n",
    "-**Pip:** Librería que sirve para instalar paquetes o librerías con el lenguaje de programación Python, utilizandolo a través de la consola de comandos, un ejemplo para invocar por decirlo así la instalación de un paquete es: ~$pip install y el nombre del paquete.\n",
    "\n",
    "-**Numpy:** Es una librería diseñada para creación de matrices dimensionales, analisis y operaciones aritmétricas con números.\n",
    "\n",
    "-**Pandas:** Es una de las librerías más importantes para los profesiones que ejercen roles data, la cual sirve para leer, organizar, limpiar y analizar los datos.\n",
    "\n",
    "-**Seaborn:** Librería utilizada para graficar datos, se puede decir que es basada en Matplotlib, la diferencia es que con esta librería se pueden crear graficas con poca sintaxis de codigo y los gráficas son más refinadas.\n",
    "\n",
    "-**Matplotlib:** Librería de codigo abierto, para la creación de graficos sencillos, efectivos y personalizados a partir de datos.\n",
    "\n",
    "-**Sckit-Learn:** Librería utilizada en Python, que facilita la creación, implementación, evaluación y despliegue de modelos de aprendizaje automático. Esta contiene algoritmos de clasificación, regresión y agrupamiento, que pueden ser utilizados para diferentes casos de uso o problemas de negocio; desde el análisis descriptivo hasta el análisis prescriptivo.\n",
    "\n",
    "-**Request:** Es una librería que es utilizada en Python , para hacer webscraping o raspado de datos en sitios web, la cual funciona con la interacción de servicios en internet a través del protocolo HTTP.\n",
    "\n",
    "-**Bokeh:** Librería para crear graficos interactivos, que al utilizarlos en pantallas tactiles, se podrá tener visualizaciones dinamicas y personalizadas.\n",
    "\n",
    "-**Folium:** Librería utilizada con python para crear mapas interactivos al estilo Google Maps, utilizada para ubicar datos en los mapas. "
   ]
  },
  {
   "cell_type": "markdown",
   "id": "de7eeae9-0294-482f-8582-db3d5017fec5",
   "metadata": {},
   "source": [
    "## Ejercicio 3: Estructuras Básicas de Datos con Python."
   ]
  },
  {
   "cell_type": "markdown",
   "id": "f10854e1-a85e-42ca-bd38-df52c9c25592",
   "metadata": {},
   "source": [
    "**<p style=\"text-align: justify;\"> A) Construya un diccionario en el cual las llaves (keys) sean los\n",
    "nombres (strings) de ocho (8) personas de su entorno familiar o\n",
    "amigos y los valores (values) sean tuplas de cuatro (4)\n",
    "elementos que contengan la siguiente información de cada\n",
    "persona en orden: (Edad, Peso, Estatura, Estudia). La edad debe\n",
    "ser en años, el peso en kilogramos, la estatura en metros y el\n",
    "elemento de estudia debe ser un Booleano, en el cual True\n",
    "significa que si estudia y False el caso contrario. </p>**"
   ]
  },
  {
   "cell_type": "code",
   "execution_count": 1,
   "id": "983a38bc-fae0-494c-89fc-629ecfcb59fe",
   "metadata": {},
   "outputs": [
    {
     "name": "stdout",
     "output_type": "stream",
     "text": [
      "Wagner tiene una Edad de: 36 años, Un peso de: 119 kg, Una estatura de: 1.91 m, ¿Estudia? : True\n",
      "Cindy tiene una Edad de: 36 años, Un peso de: 70 kg, Una estatura de: 1.63 m, ¿Estudia? : False\n",
      "Rosario tiene una Edad de: 59 años, Un peso de: 80 kg, Una estatura de: 1.69 m, ¿Estudia? : False\n",
      "Kilian tiene una Edad de: 23 años, Un peso de: 55 kg, Una estatura de: 1.85 m, ¿Estudia? : False\n",
      "Linsay tiene una Edad de: 32 años, Un peso de: 71 kg, Una estatura de: 1.71 m, ¿Estudia? : True\n",
      "Anabellys tiene una Edad de: 59 años, Un peso de: 79 kg, Una estatura de: 1.71 m, ¿Estudia? : False\n",
      "Josué tiene una Edad de: 1 años, Un peso de: 8 kg, Una estatura de: 0.81 m, ¿Estudia? : False\n",
      "Gloria tiene una Edad de: 60 años, Un peso de: 77 kg, Una estatura de: 1.72 m, ¿Estudia? : False\n"
     ]
    }
   ],
   "source": [
    "\"\"\"se procede con crear el diccionario con información de personas, generalmente es una estructura de datos que se crea con llaves.\n",
    "se titula o nombra el diccionario como familiares_amigos.\"\"\"\n",
    "familiares_amigos = {\n",
    "    'Wagner': (36, 119, 1.91, True),# Datos de la persona No. 1\n",
    "    'Cindy': (36, 70, 1.63, False),# Datos de la persona No. 2\n",
    "    'Rosario': (59, 80, 1.69, False),# Datos de la persona No. 3\n",
    "    'Kilian': (23, 55, 1.85, False),# Datos de la persona No. 4\n",
    "    'Linsay': (32, 71, 1.71, True),# Datos de la persona No. 5\n",
    "    'Anabellys': (59, 79, 1.71, False),# Datos de la persona No. 6\n",
    "    'Josué': (1, 8, 0.81, False),# Datos de la persona No. 7\n",
    "    'Gloria': (60, 77, 1.72, False)# Datos de la persona No. 8\n",
    "}#Finalización de la estructura de datos tipo diccionario con Python, teniendo en cuenta el material de (lutz,2009)\n",
    "\n",
    "for nombre, datos in familiares_amigos.items():#ciclo for que itera los elementos del diccionario familiares_amigos\n",
    "    print(f\"{nombre} tiene una Edad de: {datos[0]} años, Un peso de: {datos[1]} kg, Una estatura de: {datos[2]} m, ¿Estudia? : {datos[3]}\")# esta línea de código, utiliza una string cadena formateada, \n",
    "    \"\"\"para imprimir información sobre las personas, almacenada en la variable \"datos\",\n",
    "       donde se almacena el diccionario familiares_amigos, es una forma de estandaroizar la impresión de los datos\"\"\"\n"
   ]
  },
  {
   "cell_type": "markdown",
   "id": "dace7147-4140-4572-a6d3-4107beb23219",
   "metadata": {},
   "source": [
    "**<p style=\"text-align: justify;\"> B) Implemente ciclos (for o while) para extraer la información del\n",
    "diccionario creado anteriormente y generar las siguientes cuatro\n",
    "(4) listas: Edades, Pesos, Estaturas y Estudia. </p>**"
   ]
  },
  {
   "cell_type": "code",
   "execution_count": 2,
   "id": "4c6db82b-eafb-44c1-8588-8b72ca7b0059",
   "metadata": {},
   "outputs": [
    {
     "name": "stdout",
     "output_type": "stream",
     "text": [
      "Edades: [36, 36, 59, 23, 32, 59, 1, 60]\n",
      "Pesos: [119, 70, 80, 55, 71, 79, 8, 77]\n",
      "Estaturas: [1.91, 1.63, 1.69, 1.85, 1.71, 1.71, 0.81, 1.72]\n",
      "¿Estudia?: [True, False, False, False, True, False, False, False]\n"
     ]
    }
   ],
   "source": [
    "#se procede con crear las respectivas listas para almacenar los datos contenidos en el diccionario creado anteriormente:\n",
    "Edades = []\n",
    "Pesos = []\n",
    "Estaturas = []\n",
    "Estudia = []\n",
    "\n",
    "\"\"\" se extrae la información del diccionario y se crea un ciclo for para almacenarlar los datos en las listas, \n",
    "    utilizando el metodo .append() que sirve para añadir valores a las listas de:\n",
    "    Edades, Pesos, Estaturas y Estudia al final de cada iteración del bucle for.\"\"\"\n",
    "for nombre, datos in familiares_amigos.items():\n",
    "    Edades.append(datos[0])#accede al primer elemento de la lista 'datos' y lo añade al final de la lista 'Edades' elemento 0\n",
    "    Pesos.append(datos[1])#accede al primer elemento de la lista 'datos' y lo añade al final de la lista 'Pesos' elemento 1\n",
    "    Estaturas.append(datos[2])#accede al primer elemento de la lista 'datos' y lo añade al final de la lista 'Estaturas' elemento 2\n",
    "    Estudia.append(datos[3])#accede al primer elemento de la lista 'datos' y lo añade al final de la lista 'Estudia' elemento 3\n",
    "\n",
    "#se procede con imprimir las listas con sus respectivas:\n",
    "print(\"Edades:\", Edades)#impresión de lista con los datos de edad.\n",
    "print(\"Pesos:\", Pesos)#impresión de lista con los datos de peso.\n",
    "print(\"Estaturas:\", Estaturas)#impresión de lista con los datos de estatura.\n",
    "print(\"¿Estudia?:\", Estudia)#impresión de lista con los datos booleanos de si estudia o no.\n"
   ]
  },
  {
   "cell_type": "markdown",
   "id": "1e2a9ab1-72a6-464a-8afd-f43d8396123a",
   "metadata": {},
   "source": [
    "**<p style=\"text-align: justify;\"> C) Defina una función que reciba como parámetros una lista y\n",
    "regrese (return) el promedio de dicha lista. Utilice dicha función\n",
    "para imprimir (print) el promedio de las listas del inciso anterior.</p>**"
   ]
  },
  {
   "cell_type": "code",
   "execution_count": 3,
   "id": "7aec405c-6678-45e9-94e9-8951a63ff439",
   "metadata": {},
   "outputs": [
    {
     "name": "stdout",
     "output_type": "stream",
     "text": [
      "Promedio de Edades es de: 38.25\n",
      "Promedio de Pesos es de: 69.875\n",
      "Promedio de Estaturas es de: 1.6287500000000001\n"
     ]
    }
   ],
   "source": [
    "\"\"\"Nota: tener en cuenta los datos impresos en el literal anterior (b), basados en el dicccionario creado en el literal A):\n",
    "\n",
    "Edades: [36, 36, 59, 23, 32, 59, 1, 60]# lista con todas las edades\n",
    "Pesos: [119, 70, 80, 55, 71, 79, 8, 77]#lista con todos los pesos\n",
    "Estaturas: [1.91, 1.63, 1.69, 1.85, 1.71, 1.71, 0.81, 1.72]\n",
    "¿Estudia?: [True, False, False, False, True, False, False, False]#lista con todas las estaturas\"\"\"\n",
    "\n",
    "#se crea una variable, calcular_promedio donde se crea un condicional if para calcular el promedio de las listas:\n",
    "def calcular_promedio(lista):\n",
    "    if not lista:#el codigo verifica si la lista está vacía\n",
    "        return 0#si la lista está vacía, devuelve el numero 0\n",
    "    return sum(lista) / len(lista) #La linea anterior \"return\" Calcula la suma de todos los elementos de la lista,\n",
    "    #y luego divide la suma por el número de elementos en dicha lista para así obtener el promedio\n",
    "\n",
    "#se procede con calcular y mostrar los respectivos promedios:\n",
    "print(\"Promedio de Edades es de:\", calcular_promedio(Edades))#impresión de los promedios de las edades\n",
    "print(\"Promedio de Pesos es de:\", calcular_promedio(Pesos))#impresión de los promedios de los pesos\n",
    "print(\"Promedio de Estaturas es de:\", calcular_promedio(Estaturas))#impresión de los promedios de las estaturas"
   ]
  },
  {
   "cell_type": "markdown",
   "id": "e5c1b3c3",
   "metadata": {},
   "source": [
    "## Conclusión"
   ]
  },
  {
   "cell_type": "markdown",
   "id": "06f2c0ef",
   "metadata": {},
   "source": [
    "<p style=\"text-align: justify;\">Se infiere con la actividad, que fue muy retroalimentadora, donde se mezclaron experiencias laborales, la bibliografía consultada y los conocimientos aportados por los compañeros, se abordó el tema referente a instalar las herramientas necesarias para trabajar con la ciencia de los datos, en este caso la suite Anaconda. Así mismo, probar estos entornos de desarrollo, los cuales se pueden instalar en diferentes Sistemas Operativos.</p>\n",
    "\n",
    "<p style=\"text-align: justify;\">Las herramientas instaladas y configuradas, coadyuvaron en el desarrollo de las actividades elaboración de código, atendiendo los retos planteados en la guía de aprendizaje.</p>"
   ]
  },
  {
   "cell_type": "markdown",
   "id": "a000c423-2707-4966-9bec-3d3820904667",
   "metadata": {},
   "source": [
    "## Referencias bibliográficas"
   ]
  },
  {
   "cell_type": "markdown",
   "id": "007f0dc8-8bd6-4464-9424-dffbc42c588e",
   "metadata": {},
   "source": [
    "Álvarez, C. (2020). Introducción al Jupyter Notebook y aplicaciones básicas. https://repository.unad.edu.co/handle/10596/35681\n",
    "\n",
    "Alex Galea. (2018). Applied Data Science with Python and Jupyter: Use Powerful Industry-standard Tools to Unlock New, Actionable Insights From Your Data: Vol. 1st edition. Packt Publishing. (pp. 1-20). https://bibliotecavirtual.unad.edu.co/login?url=https://search.ebscohost.com/login.aspx?direct=true&db=nlebk&AN=1925348&lang=es&site=ehost-live&ebv=EB&ppid=pp_1\n",
    "\n",
    "Grus, J. (2023). Ciencia de datos desde cero. Segunda edición: Principios básicos con Python. ANAYA MULTIMEDIA\n",
    "\n",
    "Kane, F. (2017). Hands-On Data Science and Python Machine Learning. Packt Publishing. (pp. 20-39)\n",
    "\n",
    "Lutz, M. (2009). Learning Python. O’Reilly Media, Incorporated.\n",
    "\n",
    "Roldán, R. C., Martín, E. M., & Rodríguez, A. R. (2019). Big data con python: Recolección, almacenamiento y proceso. Alpha Editorial.\n",
    "\n",
    "Thakur, A. (2016). Python: Real-World Data Science. Packt Publishing. (pp. 199 - 220)"
   ]
  }
 ],
 "metadata": {
  "kernelspec": {
   "display_name": "Python 3 (ipykernel)",
   "language": "python",
   "name": "python3"
  },
  "language_info": {
   "codemirror_mode": {
    "name": "ipython",
    "version": 3
   },
   "file_extension": ".py",
   "mimetype": "text/x-python",
   "name": "python",
   "nbconvert_exporter": "python",
   "pygments_lexer": "ipython3",
   "version": "3.10.11"
  }
 },
 "nbformat": 4,
 "nbformat_minor": 5
}
